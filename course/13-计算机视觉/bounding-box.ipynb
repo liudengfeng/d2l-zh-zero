{
 "cells": [
  {
   "cell_type": "markdown",
   "id": "683a1fd7",
   "metadata": {},
   "source": [
    "# 目标检测和边界框\n",
    "【sec_bbox】\n",
    "\n",
    "前面的章节（例如 7.1— 【sec_googlenet】）介绍了各种图像分类模型。\n",
    "在图像分类任务中，我们假设图像中只有一个主要物体对象，我们只关注如何识别其类别。\n",
    "然而，很多时候图像里有多个我们感兴趣的目标，我们不仅想知道它们的类别，还想得到它们在图像中的具体位置。\n",
    "在计算机视觉里，我们将这类任务称为*目标检测*（object detection）或*目标识别*（object recognition）。\n",
    "\n",
    "目标检测在多个领域中被广泛使用。\n",
    "例如，在无人驾驶里，我们需要通过识别拍摄到的视频图像里的车辆、行人、道路和障碍物的位置来规划行进线路。\n",
    "机器人也常通过该任务来检测感兴趣的目标。安防领域则需要检测异常目标，如歹徒或者炸弹。\n",
    "\n",
    "接下来的几节将介绍几种用于目标检测的深度学习方法。\n",
    "我们将首先介绍目标的*位置*。"
   ]
  },
  {
   "cell_type": "code",
   "execution_count": null,
   "id": "40b57171",
   "metadata": {},
   "outputs": [],
   "source": [
    "import sys\n",
    "import os\n",
    "\n",
    "# 获取当前 Notebook 文件的路径\n",
    "notebook_path = os.path.abspath(\".\")\n",
    "\n",
    "# 获取父级目录的路径\n",
    "parent_directory = os.path.dirname(notebook_path)\n",
    "\n",
    "# 将父级目录添加到 sys.path\n",
    "if parent_directory not in sys.path:\n",
    "    sys.path.append(parent_directory)"
   ]
  },
  {
   "cell_type": "code",
   "execution_count": null,
   "id": "7d101931",
   "metadata": {},
   "outputs": [],
   "source": [
    "#@tab pytorch\n",
    "%matplotlib inline\n",
    "import d2l\n",
    "import torch"
   ]
  },
  {
   "cell_type": "markdown",
   "id": "03f61f88",
   "metadata": {},
   "source": [
    "下面加载本节将使用的示例图像。可以看到图像左边是一只狗，右边是一只猫。\n",
    "它们是这张图像里的两个主要目标。"
   ]
  },
  {
   "cell_type": "code",
   "execution_count": null,
   "id": "3ce2d8eb",
   "metadata": {},
   "outputs": [],
   "source": [
    "#@tab pytorch, tensorflow, paddle\n",
    "d2l.set_figsize()\n",
    "img = d2l.plt.imread('../img/catdog.jpg')\n",
    "d2l.plt.imshow(img);"
   ]
  },
  {
   "cell_type": "markdown",
   "id": "5e18ca93",
   "metadata": {},
   "source": [
    "## 边界框\n",
    "\n",
    "在目标检测中，我们通常使用*边界框*（bounding box）来描述对象的空间位置。\n",
    "边界框是矩形的，由矩形左上角的以及右下角的$x$和$y$坐标决定。\n",
    "另一种常用的边界框表示方法是边界框中心的$(x, y)$轴坐标以及框的宽度和高度。\n",
    "\n",
    "在这里，我们[**定义在这两种表示法之间进行转换的函数**]：`box_corner_to_center`从两角表示法转换为中心宽度表示法，而`box_center_to_corner`反之亦然。\n",
    "输入参数`boxes`可以是长度为4的张量，也可以是形状为（$n$，4）的二维张量，其中$n$是边界框的数量。"
   ]
  },
  {
   "cell_type": "code",
   "execution_count": null,
   "id": "03bd6d6f",
   "metadata": {},
   "outputs": [],
   "source": [
    "#@tab all\n",
    "#@save\n",
    "def box_corner_to_center(boxes):\n",
    "    \"\"\"从（左上，右下）转换到（中间，宽度，高度）\"\"\"\n",
    "    x1, y1, x2, y2 = boxes[:, 0], boxes[:, 1], boxes[:, 2], boxes[:, 3]\n",
    "    cx = (x1 + x2) / 2\n",
    "    cy = (y1 + y2) / 2\n",
    "    w = x2 - x1\n",
    "    h = y2 - y1\n",
    "    boxes = d2l.stack((cx, cy, w, h), axis=-1)\n",
    "    return boxes\n",
    "\n",
    "#@save\n",
    "def box_center_to_corner(boxes):\n",
    "    \"\"\"从（中间，宽度，高度）转换到（左上，右下）\"\"\"\n",
    "    cx, cy, w, h = boxes[:, 0], boxes[:, 1], boxes[:, 2], boxes[:, 3]\n",
    "    x1 = cx - 0.5 * w\n",
    "    y1 = cy - 0.5 * h\n",
    "    x2 = cx + 0.5 * w\n",
    "    y2 = cy + 0.5 * h\n",
    "    boxes = d2l.stack((x1, y1, x2, y2), axis=-1)\n",
    "    return boxes"
   ]
  },
  {
   "cell_type": "markdown",
   "id": "5d7d6511",
   "metadata": {},
   "source": [
    "我们将根据坐标信息[**定义图像中狗和猫的边界框**]。\n",
    "图像中坐标的原点是图像的左上角，向右的方向为$x$轴的正方向，向下的方向为$y$轴的正方向。"
   ]
  },
  {
   "cell_type": "code",
   "execution_count": null,
   "id": "03ee83e4",
   "metadata": {},
   "outputs": [],
   "source": [
    "#@tab all\n",
    "# bbox是边界框的英文缩写\n",
    "dog_bbox, cat_bbox = [60.0, 45.0, 378.0, 516.0], [400.0, 112.0, 655.0, 493.0]"
   ]
  },
  {
   "cell_type": "markdown",
   "id": "45ee6491",
   "metadata": {},
   "source": [
    "我们可以通过转换两次来验证边界框转换函数的正确性。"
   ]
  },
  {
   "cell_type": "code",
   "execution_count": null,
   "id": "6b4278e8",
   "metadata": {},
   "outputs": [],
   "source": [
    "#@tab all\n",
    "boxes = d2l.tensor((dog_bbox, cat_bbox))\n",
    "box_center_to_corner(box_corner_to_center(boxes)) == boxes"
   ]
  },
  {
   "cell_type": "markdown",
   "id": "1a5a3f55",
   "metadata": {},
   "source": [
    "我们可以[**将边界框在图中画出**]，以检查其是否准确。\n",
    "画之前，我们定义一个辅助函数`bbox_to_rect`。\n",
    "它将边界框表示成`matplotlib`的边界框格式。"
   ]
  },
  {
   "cell_type": "code",
   "execution_count": null,
   "id": "53679e43",
   "metadata": {},
   "outputs": [],
   "source": [
    "#@tab all\n",
    "#@save\n",
    "def bbox_to_rect(bbox, color):\n",
    "    # 将边界框(左上x,左上y,右下x,右下y)格式转换成matplotlib格式：\n",
    "    # ((左上x,左上y),宽,高)\n",
    "    return d2l.plt.Rectangle(\n",
    "        xy=(bbox[0], bbox[1]), width=bbox[2]-bbox[0], height=bbox[3]-bbox[1],\n",
    "        fill=False, edgecolor=color, linewidth=2)"
   ]
  },
  {
   "cell_type": "markdown",
   "id": "1854ea6d",
   "metadata": {},
   "source": [
    "在图像上添加边界框之后，我们可以看到两个物体的主要轮廓基本上在两个框内。"
   ]
  },
  {
   "cell_type": "code",
   "execution_count": null,
   "id": "c4727ccd",
   "metadata": {},
   "outputs": [],
   "source": [
    "#@tab all\n",
    "fig = d2l.plt.imshow(img)\n",
    "fig.axes.add_patch(bbox_to_rect(dog_bbox, 'blue'))\n",
    "fig.axes.add_patch(bbox_to_rect(cat_bbox, 'red'));"
   ]
  },
  {
   "cell_type": "markdown",
   "id": "5dcf0331",
   "metadata": {},
   "source": [
    "## 小结\n",
    "\n",
    "* 目标检测不仅可以识别图像中所有感兴趣的物体，还能识别它们的位置，该位置通常由矩形边界框表示。\n",
    "* 我们可以在两种常用的边界框表示（中间，宽度，高度）和（左上，右下）坐标之间进行转换。\n",
    "\n",
    "## 练习\n",
    "\n",
    "1. 找到另一张图像，然后尝试标记包含该对象的边界框。比较标注边界框和标注类别哪个需要更长的时间？\n",
    "1. 为什么`box_corner_to_center`和`box_center_to_corner`的输入参数的最内层维度总是4？\n",
    "\n",
    "\n",
    "\n",
    "\n",
    "[Discussions](https://discuss.d2l.ai/t/2944)"
   ]
  }
 ],
 "metadata": {
  "language_info": {
   "name": "python"
  }
 },
 "nbformat": 4,
 "nbformat_minor": 5
}
