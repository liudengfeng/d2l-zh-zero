{
 "cells": [
  {
   "cell_type": "markdown",
   "id": "9c83b839",
   "metadata": {},
   "source": [
    "# 图像增广\n",
    "【sec_image_augmentation】\n",
    "\n",
    " 7.1提到过大型数据集是成功应用深度神经网络的先决条件。\n",
    "图像增广在对训练图像进行一系列的随机变化之后，生成相似但不同的训练样本，从而扩大了训练集的规模。\n",
    "此外，应用图像增广的原因是，随机改变训练样本可以减少模型对某些属性的依赖，从而提高模型的泛化能力。\n",
    "例如，我们可以以不同的方式裁剪图像，使感兴趣的对象出现在不同的位置，减少模型对于对象出现位置的依赖。\n",
    "我们还可以调整亮度、颜色等因素来降低模型对颜色的敏感度。\n",
    "可以说，图像增广技术对于AlexNet的成功是必不可少的。本节将讨论这项广泛应用于计算机视觉的技术。"
   ]
  },
  {
   "cell_type": "code",
   "execution_count": null,
   "id": "3a5462dc",
   "metadata": {},
   "outputs": [],
   "source": [
    "import sys\n",
    "import os\n",
    "\n",
    "# 获取当前 Notebook 文件的路径\n",
    "notebook_path = os.path.abspath(\".\")\n",
    "\n",
    "# 获取父级目录的路径\n",
    "parent_directory = os.path.dirname(notebook_path)\n",
    "\n",
    "# 将父级目录添加到 sys.path\n",
    "if parent_directory not in sys.path:\n",
    "    sys.path.append(parent_directory)"
   ]
  },
  {
   "cell_type": "code",
   "execution_count": null,
   "id": "75bb8c86",
   "metadata": {},
   "outputs": [],
   "source": [
    "#@tab pytorch\n",
    "%matplotlib inline\n",
    "import d2l\n",
    "import torch\n",
    "import torchvision\n",
    "from torch import nn"
   ]
  },
  {
   "cell_type": "markdown",
   "id": "6d12a431",
   "metadata": {},
   "source": [
    "## 常用的图像增广方法\n",
    "\n",
    "在对常用图像增广方法的探索时，我们将使用下面这个尺寸为$400\\times 500$的图像作为示例。"
   ]
  },
  {
   "cell_type": "code",
   "execution_count": null,
   "id": "a2b14c95",
   "metadata": {},
   "outputs": [],
   "source": [
    "#@tab pytorch, paddle\n",
    "d2l.set_figsize()\n",
    "img = d2l.Image.open('../img/cat1.jpg')\n",
    "d2l.plt.imshow(img);"
   ]
  },
  {
   "cell_type": "markdown",
   "id": "0f3a554e",
   "metadata": {},
   "source": [
    "大多数图像增广方法都具有一定的随机性。为了便于观察图像增广的效果，我们下面定义辅助函数`apply`。\n",
    "此函数在输入图像`img`上多次运行图像增广方法`aug`并显示所有结果。"
   ]
  },
  {
   "cell_type": "code",
   "execution_count": null,
   "id": "856fd626",
   "metadata": {},
   "outputs": [],
   "source": [
    "#@tab all\n",
    "def apply(img, aug, num_rows=2, num_cols=4, scale=1.5):\n",
    "    Y = [aug(img) for _ in range(num_rows * num_cols)]\n",
    "    d2l.show_images(Y, num_rows, num_cols, scale=scale)"
   ]
  },
  {
   "cell_type": "markdown",
   "id": "de946b29",
   "metadata": {},
   "source": [
    "### 翻转和裁剪\n",
    "\n",
    "[**左右翻转图像**]通常不会改变对象的类别。这是最早且最广泛使用的图像增广方法之一。\n",
    "接下来，我们使用`transforms`模块来创建`RandomFlipLeftRight`实例，这样就各有50%的几率使图像向左或向右翻转。"
   ]
  },
  {
   "cell_type": "code",
   "execution_count": null,
   "id": "61b65ee2",
   "metadata": {},
   "outputs": [],
   "source": [
    "#@tab pytorch\n",
    "apply(img, torchvision.transforms.RandomHorizontalFlip())"
   ]
  },
  {
   "cell_type": "markdown",
   "id": "03496a34",
   "metadata": {},
   "source": [
    "[**上下翻转图像**]不如左右图像翻转那样常用。但是，至少对于这个示例图像，上下翻转不会妨碍识别。接下来，我们创建一个`RandomFlipTopBottom`实例，使图像各有50%的几率向上或向下翻转。"
   ]
  },
  {
   "cell_type": "code",
   "execution_count": null,
   "id": "c5280955",
   "metadata": {},
   "outputs": [],
   "source": [
    "#@tab pytorch\n",
    "apply(img, torchvision.transforms.RandomVerticalFlip())"
   ]
  },
  {
   "cell_type": "markdown",
   "id": "65d91b3b",
   "metadata": {},
   "source": [
    "在我们使用的示例图像中，猫位于图像的中间，但并非所有图像都是这样。\n",
    "在 【sec_pooling】中，我们解释了汇聚层可以降低卷积层对目标位置的敏感性。\n",
    "另外，我们可以通过对图像进行随机裁剪，使物体以不同的比例出现在图像的不同位置。\n",
    "这也可以降低模型对目标位置的敏感性。\n",
    "\n",
    "下面的代码将[**随机裁剪**]一个面积为原始面积10%到100%的区域，该区域的宽高比从0.5～2之间随机取值。\n",
    "然后，区域的宽度和高度都被缩放到200像素。\n",
    "在本节中（除非另有说明），$a$和$b$之间的随机数指的是在区间$[a, b]$中通过均匀采样获得的连续值。"
   ]
  },
  {
   "cell_type": "code",
   "execution_count": null,
   "id": "cb4036a6",
   "metadata": {},
   "outputs": [],
   "source": [
    "#@tab pytorch\n",
    "shape_aug = torchvision.transforms.RandomResizedCrop(\n",
    "    (200, 200), scale=(0.1, 1), ratio=(0.5, 2))\n",
    "apply(img, shape_aug)"
   ]
  },
  {
   "cell_type": "markdown",
   "id": "7ab1fda7",
   "metadata": {},
   "source": [
    "### 改变颜色\n",
    "\n",
    "另一种增广方法是改变颜色。\n",
    "我们可以改变图像颜色的四个方面：亮度、对比度、饱和度和色调。\n",
    "在下面的示例中，我们[**随机更改图像的亮度**]，随机值为原始图像的50%（$1-0.5$）到150%（$1+0.5$）之间。"
   ]
  },
  {
   "cell_type": "code",
   "execution_count": null,
   "id": "0d678060",
   "metadata": {},
   "outputs": [],
   "source": [
    "#@tab pytorch\n",
    "apply(img, torchvision.transforms.ColorJitter(\n",
    "    brightness=0.5, contrast=0, saturation=0, hue=0))"
   ]
  },
  {
   "cell_type": "markdown",
   "id": "10e11b96",
   "metadata": {},
   "source": [
    "同样，我们可以[**随机更改图像的色调**]。"
   ]
  },
  {
   "cell_type": "code",
   "execution_count": null,
   "id": "0f5ae29b",
   "metadata": {},
   "outputs": [],
   "source": [
    "#@tab pytorch\n",
    "apply(img, torchvision.transforms.ColorJitter(\n",
    "    brightness=0, contrast=0, saturation=0, hue=0.5))"
   ]
  },
  {
   "cell_type": "markdown",
   "id": "983991ac",
   "metadata": {},
   "source": [
    "我们还可以创建一个`RandomColorJitter`实例，并设置如何同时[**随机更改图像的亮度（`brightness`）、对比度（`contrast`）、饱和度（`saturation`）和色调（`hue`）**]。"
   ]
  },
  {
   "cell_type": "code",
   "execution_count": null,
   "id": "5b7aaaba",
   "metadata": {},
   "outputs": [],
   "source": [
    "#@tab pytorch\n",
    "color_aug = torchvision.transforms.ColorJitter(\n",
    "    brightness=0.5, contrast=0.5, saturation=0.5, hue=0.5)\n",
    "apply(img, color_aug)"
   ]
  },
  {
   "cell_type": "markdown",
   "id": "0c1df21c",
   "metadata": {},
   "source": [
    "### [**结合多种图像增广方法**]\n",
    "\n",
    "在实践中，我们将结合多种图像增广方法。比如，我们可以通过使用一个`Compose`实例来综合上面定义的不同的图像增广方法，并将它们应用到每个图像。"
   ]
  },
  {
   "cell_type": "code",
   "execution_count": null,
   "id": "a6d0f9e7",
   "metadata": {},
   "outputs": [],
   "source": [
    "#@tab pytorch\n",
    "augs = torchvision.transforms.Compose([\n",
    "    torchvision.transforms.RandomHorizontalFlip(), color_aug, shape_aug])\n",
    "apply(img, augs)"
   ]
  },
  {
   "cell_type": "markdown",
   "id": "b9251c86",
   "metadata": {},
   "source": [
    "## [**使用图像增广进行训练**]\n",
    "\n",
    "让我们使用图像增广来训练模型。\n",
    "这里，我们使用CIFAR-10数据集，而不是我们之前使用的Fashion-MNIST数据集。\n",
    "这是因为Fashion-MNIST数据集中对象的位置和大小已被规范化，而CIFAR-10数据集中对象的颜色和大小差异更明显。\n",
    "CIFAR-10数据集中的前32个训练图像如下所示。"
   ]
  },
  {
   "cell_type": "code",
   "execution_count": null,
   "id": "e692e144",
   "metadata": {},
   "outputs": [],
   "source": [
    "#@tab pytorch\n",
    "all_images = torchvision.datasets.CIFAR10(train=True, root=\"../data\",\n",
    "                                          download=True)\n",
    "d2l.show_images([all_images[i][0] for i in range(32)], 4, 8, scale=0.8);"
   ]
  },
  {
   "cell_type": "markdown",
   "id": "be45b3fc",
   "metadata": {},
   "source": [
    "为了在预测过程中得到确切的结果，我们通常对训练样本只进行图像增广，且在预测过程中不使用随机操作的图像增广。\n",
    "在这里，我们[**只使用最简单的随机左右翻转**]。\n",
    "此外，我们使用`ToTensor`实例将一批图像转换为深度学习框架所要求的格式，即形状为（批量大小，通道数，高度，宽度）的32位浮点数，取值范围为0～1。"
   ]
  },
  {
   "cell_type": "code",
   "execution_count": null,
   "id": "209e4ed9",
   "metadata": {},
   "outputs": [],
   "source": [
    "#@tab pytorch\n",
    "train_augs = torchvision.transforms.Compose([\n",
    "     torchvision.transforms.RandomHorizontalFlip(),\n",
    "     torchvision.transforms.ToTensor()])\n",
    "\n",
    "test_augs = torchvision.transforms.Compose([\n",
    "     torchvision.transforms.ToTensor()])"
   ]
  },
  {
   "cell_type": "markdown",
   "id": "68250f2f",
   "metadata": {},
   "source": [
    "接下来，我们[**定义一个辅助函数，以便于读取图像和应用图像增广**]。PyTorch数据集提供的`transform`参数应用图像增广来转化图像。有关`DataLoader`的详细介绍，请参阅 【sec_fashion_mnist】。"
   ]
  },
  {
   "cell_type": "code",
   "execution_count": null,
   "id": "4dc5bdee",
   "metadata": {},
   "outputs": [],
   "source": [
    "#@tab pytorch\n",
    "def load_cifar10(is_train, augs, batch_size):\n",
    "    dataset = torchvision.datasets.CIFAR10(root=\"../data\", train=is_train,\n",
    "                                           transform=augs, download=True)\n",
    "    dataloader = torch.utils.data.DataLoader(dataset, batch_size=batch_size,\n",
    "                    shuffle=is_train, num_workers=d2l.get_dataloader_workers())\n",
    "    return dataloader"
   ]
  },
  {
   "cell_type": "markdown",
   "id": "96ee07f7",
   "metadata": {},
   "source": [
    "### 多GPU训练\n",
    "\n",
    "我们在CIFAR-10数据集上训练 7.6节中的ResNet-18模型。\n",
    "回想一下 12.6中对多GPU训练的介绍。\n",
    "接下来，我们[**定义一个函数，使用多GPU对模型进行训练和评估**]。"
   ]
  },
  {
   "cell_type": "code",
   "execution_count": null,
   "id": "5b3ed212",
   "metadata": {},
   "outputs": [],
   "source": [
    "#@tab pytorch\n",
    "#@save\n",
    "def train_batch_ch13(net, X, y, loss, trainer, devices):\n",
    "    \"\"\"用多GPU进行小批量训练\"\"\"\n",
    "    if isinstance(X, list):\n",
    "        # 微调BERT中所需\n",
    "        X = [x.to(devices[0]) for x in X]\n",
    "    else:\n",
    "        X = X.to(devices[0])\n",
    "    y = y.to(devices[0])\n",
    "    net.train()\n",
    "    trainer.zero_grad()\n",
    "    pred = net(X)\n",
    "    l = loss(pred, y)\n",
    "    l.sum().backward()\n",
    "    trainer.step()\n",
    "    train_loss_sum = l.sum()\n",
    "    train_acc_sum = d2l.accuracy(pred, y)\n",
    "    return train_loss_sum, train_acc_sum"
   ]
  },
  {
   "cell_type": "code",
   "execution_count": null,
   "id": "f47fa810",
   "metadata": {},
   "outputs": [],
   "source": [
    "#@tab pytorch\n",
    "#@save\n",
    "def train_ch13(net, train_iter, test_iter, loss, trainer, num_epochs,\n",
    "               devices=d2l.try_all_gpus()):\n",
    "    \"\"\"用多GPU进行模型训练\"\"\"\n",
    "    timer, num_batches = d2l.Timer(), len(train_iter)\n",
    "    animator = d2l.Animator(xlabel='epoch', xlim=[1, num_epochs], ylim=[0, 1],\n",
    "                            legend=['train loss', 'train acc', 'test acc'])\n",
    "    net = nn.DataParallel(net, device_ids=devices).to(devices[0])\n",
    "    for epoch in range(num_epochs):\n",
    "        # 4个维度：储存训练损失，训练准确度，实例数，特点数\n",
    "        metric = d2l.Accumulator(4)\n",
    "        for i, (features, labels) in enumerate(train_iter):\n",
    "            timer.start()\n",
    "            l, acc = train_batch_ch13(\n",
    "                net, features, labels, loss, trainer, devices)\n",
    "            metric.add(l, acc, labels.shape[0], labels.numel())\n",
    "            timer.stop()\n",
    "            if (i + 1) % (num_batches // 5) == 0 or i == num_batches - 1:\n",
    "                animator.add(epoch + (i + 1) / num_batches,\n",
    "                             (metric[0] / metric[2], metric[1] / metric[3],\n",
    "                              None))\n",
    "        test_acc = d2l.evaluate_accuracy_gpu(net, test_iter)\n",
    "        animator.add(epoch + 1, (None, None, test_acc))\n",
    "    print(f'loss {metric[0] / metric[2]:.3f}, train acc '\n",
    "          f'{metric[1] / metric[3]:.3f}, test acc {test_acc:.3f}')\n",
    "    print(f'{metric[2] * num_epochs / timer.sum():.1f} examples/sec on '\n",
    "          f'{str(devices)}')"
   ]
  },
  {
   "cell_type": "markdown",
   "id": "2d01d49a",
   "metadata": {},
   "source": [
    "现在，我们可以[**定义`train_with_data_aug`函数，使用图像增广来训练模型**]。该函数获取所有的GPU，并使用Adam作为训练的优化算法，将图像增广应用于训练集，最后调用刚刚定义的用于训练和评估模型的`train_ch13`函数。"
   ]
  },
  {
   "cell_type": "code",
   "execution_count": null,
   "id": "90c9f83d",
   "metadata": {},
   "outputs": [],
   "source": [
    "#@tab pytorch\n",
    "batch_size, devices, net = 256, d2l.try_all_gpus(), d2l.resnet18(10, 3)\n",
    "\n",
    "def init_weights(m):\n",
    "    if type(m) in [nn.Linear, nn.Conv2d]:\n",
    "        nn.init.xavier_uniform_(m.weight)\n",
    "\n",
    "net.apply(init_weights)\n",
    "\n",
    "def train_with_data_aug(train_augs, test_augs, net, lr=0.001):\n",
    "    train_iter = load_cifar10(True, train_augs, batch_size)\n",
    "    test_iter = load_cifar10(False, test_augs, batch_size)\n",
    "    loss = nn.CrossEntropyLoss(reduction=\"none\")\n",
    "    trainer = torch.optim.Adam(net.parameters(), lr=lr)\n",
    "    train_ch13(net, train_iter, test_iter, loss, trainer, 10, devices)"
   ]
  },
  {
   "cell_type": "markdown",
   "id": "88f0d6ab",
   "metadata": {},
   "source": [
    "让我们使用基于随机左右翻转的图像增广来[**训练模型**]。"
   ]
  },
  {
   "cell_type": "code",
   "execution_count": null,
   "id": "32e3ee66",
   "metadata": {},
   "outputs": [],
   "source": [
    "#@tab all\n",
    "train_with_data_aug(train_augs, test_augs, net)"
   ]
  },
  {
   "cell_type": "markdown",
   "id": "a0d9988e",
   "metadata": {},
   "source": [
    "## 小结\n",
    "\n",
    "* 图像增广基于现有的训练数据生成随机图像，来提高模型的泛化能力。\n",
    "* 为了在预测过程中得到确切的结果，我们通常对训练样本只进行图像增广，而在预测过程中不使用带随机操作的图像增广。\n",
    "* 深度学习框架提供了许多不同的图像增广方法，这些方法可以被同时应用。\n",
    "\n",
    "## 练习\n",
    "\n",
    "1. 在不使用图像增广的情况下训练模型：`train_with_data_aug(no_aug, no_aug)`。比较使用和不使用图像增广的训练结果和测试精度。这个对比实验能支持图像增广可以减轻过拟合的论点吗？为什么？\n",
    "2. 在基于CIFAR-10数据集的模型训练中结合多种不同的图像增广方法。它能提高测试准确性吗？\n",
    "3. 参阅深度学习框架的在线文档。它还提供了哪些其他的图像增广方法？\n",
    "\n",
    "\n",
    "\n",
    "\n",
    "[Discussions](https://discuss.d2l.ai/t/2829)"
   ]
  }
 ],
 "metadata": {
  "language_info": {
   "name": "python"
  }
 },
 "nbformat": 4,
 "nbformat_minor": 5
}
