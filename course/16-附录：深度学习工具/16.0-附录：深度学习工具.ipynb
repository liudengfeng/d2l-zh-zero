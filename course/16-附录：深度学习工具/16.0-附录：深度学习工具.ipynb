{
 "cells": [
  {
   "cell_type": "markdown",
   "id": "c3a62247",
   "metadata": {},
   "source": [
    "# 附录：深度学习工具\n",
    "【chap_appendix_tools】\n",
    "\n",
    "为了充分利用《动手学深度学习》，本书将在本附录中介绍不同工具，\n",
    "例如如何运行这本交互式开源书籍和为本书做贡献。"
   ]
  }
 ],
 "metadata": {
  "language_info": {
   "name": "python"
  }
 },
 "nbformat": 4,
 "nbformat_minor": 5
}
