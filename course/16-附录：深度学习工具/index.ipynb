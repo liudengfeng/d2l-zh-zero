{
 "cells": [
  {
   "cell_type": "markdown",
   "id": "c3a62247",
   "metadata": {},
   "source": [
    "# 附录：深度学习工具\n",
    "【chap_appendix_tools】\n",
    "\n",
    "为了充分利用《动手学深度学习》，本书将在本附录中介绍不同工具，\n",
    "例如如何运行这本交互式开源书籍和为本书做贡献。"
   ]
  },
  {
   "cell_type": "code",
   "execution_count": null,
   "id": "903fbc92",
   "metadata": {
    "attributes": {
     "classes": [
      "toc"
     ],
     "id": ""
    }
   },
   "outputs": [],
   "source": [
    ":maxdepth: 2\n",
    "\n",
    "jupyter\n",
    "sagemaker\n",
    "aws\n",
    "selecting-servers-gpus\n",
    "contributing\n",
    "d2l"
   ]
  }
 ],
 "metadata": {},
 "nbformat": 4,
 "nbformat_minor": 5
}
