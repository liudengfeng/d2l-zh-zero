{
 "cells": [
  {
   "cell_type": "markdown",
   "id": "111b8808",
   "metadata": {},
   "source": [
    "# `d2l` API 文档\n",
    "16.6节 \n",
    "\n",
    "`d2l`包以下成员的实现及其定义和解释部分可在[源文件](https://github.com/d2l-ai/d2l-en/tree/master/d2l)中找到。"
   ]
  },
  {
   "cell_type": "code",
   "execution_count": null,
   "id": "f6bd6530",
   "metadata": {
    "attributes": {
     "classes": [
      "eval_rst"
     ],
     "id": ""
    }
   },
   "outputs": [],
   "source": [
    ".. currentmodule:: d2l.torch"
   ]
  },
  {
   "cell_type": "markdown",
   "id": "55411fd9",
   "metadata": {},
   "source": [
    "## 模型"
   ]
  },
  {
   "cell_type": "code",
   "execution_count": null,
   "id": "cfa0ed55",
   "metadata": {
    "attributes": {
     "classes": [
      "eval_rst"
     ],
     "id": ""
    }
   },
   "outputs": [],
   "source": [
    ".. autoclass:: Module\n",
    "   :members:\n",
    "\n",
    ".. autoclass:: LinearRegressionScratch\n",
    "   :members:\n",
    "\n",
    ".. autoclass:: LinearRegression\n",
    "   :members:\n",
    "\n",
    ".. autoclass:: Classification\n",
    "   :members:"
   ]
  },
  {
   "cell_type": "markdown",
   "id": "5efdb1f0",
   "metadata": {},
   "source": [
    "## 数据"
   ]
  },
  {
   "cell_type": "code",
   "execution_count": null,
   "id": "f992b783",
   "metadata": {
    "attributes": {
     "classes": [
      "eval_rst"
     ],
     "id": ""
    }
   },
   "outputs": [],
   "source": [
    ".. autoclass:: DataModule\n",
    "   :members:\n",
    "\n",
    ".. autoclass:: SyntheticRegressionData\n",
    "   :members:\n",
    "\n",
    ".. autoclass:: FashionMNIST\n",
    "   :members:"
   ]
  },
  {
   "cell_type": "markdown",
   "id": "92951764",
   "metadata": {},
   "source": [
    "## 训练"
   ]
  },
  {
   "cell_type": "code",
   "execution_count": null,
   "id": "96d70c60",
   "metadata": {
    "attributes": {
     "classes": [
      "eval_rst"
     ],
     "id": ""
    }
   },
   "outputs": [],
   "source": [
    ".. autoclass:: Trainer\n",
    "   :members:\n",
    "\n",
    ".. autoclass:: SGD\n",
    "   :members:"
   ]
  },
  {
   "cell_type": "markdown",
   "id": "440cfc42",
   "metadata": {},
   "source": [
    "## 公用"
   ]
  },
  {
   "cell_type": "code",
   "execution_count": null,
   "id": "c514d374",
   "metadata": {
    "attributes": {
     "classes": [
      "eval_rst"
     ],
     "id": ""
    }
   },
   "outputs": [],
   "source": [
    ".. autofunction:: add_to_class\n",
    "\n",
    ".. autofunction:: cpu\n",
    "\n",
    ".. autofunction:: gpu\n",
    "\n",
    ".. autofunction:: num_gpus\n",
    "\n",
    ".. autoclass:: ProgressBoard\n",
    "   :members:\n",
    "\n",
    ".. autoclass:: HyperParameters\n",
    "   :members:"
   ]
  }
 ],
 "metadata": {},
 "nbformat": 4,
 "nbformat_minor": 5
}
