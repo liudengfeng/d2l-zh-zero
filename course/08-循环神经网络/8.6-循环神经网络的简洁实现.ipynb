{
 "cells": [
  {
   "cell_type": "markdown",
   "id": "3e8ef215",
   "metadata": {},
   "source": [
    "# 8.6 循环神经网络的简洁实现\n",
    "\n",
    "虽然 8.5\n",
    "对了解循环神经网络的实现方式具有指导意义，但并不方便。\n",
    "本节将展示如何使用深度学习框架的高级API提供的函数更有效地实现相同的语言模型。\n",
    "我们仍然从读取时光机器数据集开始。"
   ]
  },
  {
   "cell_type": "code",
   "execution_count": null,
   "id": "fd01c9fd",
   "metadata": {},
   "outputs": [],
   "source": [
    "import sys\n",
    "import os\n",
    "\n",
    "# 获取当前 Notebook 文件的路径\n",
    "notebook_path = os.path.abspath(\".\")\n",
    "\n",
    "# 获取父级目录的路径\n",
    "parent_directory = os.path.dirname(notebook_path)\n",
    "\n",
    "# 将父级目录添加到 sys.path\n",
    "if parent_directory not in sys.path:\n",
    "    sys.path.append(parent_directory)"
   ]
  },
  {
   "cell_type": "code",
   "execution_count": null,
   "id": "c570fe08",
   "metadata": {},
   "outputs": [],
   "source": [
    "#@tab pytorch\n",
    "import d2l\n",
    "import torch\n",
    "from torch import nn\n",
    "from torch.nn import functional as F\n",
    "\n",
    "batch_size, num_steps = 32, 35\n",
    "train_iter, vocab = d2l.load_data_time_machine(batch_size, num_steps)"
   ]
  },
  {
   "cell_type": "markdown",
   "id": "89c46466",
   "metadata": {},
   "source": [
    "## [**定义模型**]\n",
    "\n",
    "高级API提供了循环神经网络的实现。\n",
    "我们构造一个具有256个隐藏单元的单隐藏层的循环神经网络层`rnn_layer`。\n",
    "事实上，我们还没有讨论多层循环神经网络的意义（这将在 9.3中介绍）。\n",
    "现在仅需要将多层理解为一层循环神经网络的输出被用作下一层循环神经网络的输入就足够了。"
   ]
  },
  {
   "cell_type": "code",
   "execution_count": null,
   "id": "34a8f2c7",
   "metadata": {},
   "outputs": [],
   "source": [
    "#@tab pytorch\n",
    "num_hiddens = 256\n",
    "rnn_layer = nn.RNN(len(vocab), num_hiddens)"
   ]
  },
  {
   "cell_type": "markdown",
   "id": "38564894",
   "metadata": {},
   "source": [
    "我们(**使用张量来初始化隐状态**)，它的形状是（隐藏层数，批量大小，隐藏单元数）。"
   ]
  },
  {
   "cell_type": "code",
   "execution_count": null,
   "id": "f4497a2d",
   "metadata": {},
   "outputs": [],
   "source": [
    "#@tab pytorch\n",
    "state = torch.zeros((1, batch_size, num_hiddens))\n",
    "state.shape"
   ]
  },
  {
   "cell_type": "markdown",
   "id": "ec059edd",
   "metadata": {},
   "source": [
    "[**通过一个隐状态和一个输入，我们就可以用更新后的隐状态计算输出。**]\n",
    "需要强调的是，`rnn_layer`的“输出”（`Y`）不涉及输出层的计算：\n",
    "它是指每个时间步的隐状态，这些隐状态可以用作后续输出层的输入。"
   ]
  },
  {
   "cell_type": "code",
   "execution_count": null,
   "id": "8e764870",
   "metadata": {},
   "outputs": [],
   "source": [
    "#@tab pytorch\n",
    "X = torch.rand(size=(num_steps, batch_size, len(vocab)))\n",
    "Y, state_new = rnn_layer(X, state)\n",
    "Y.shape, state_new.shape"
   ]
  },
  {
   "cell_type": "markdown",
   "id": "d7740f61",
   "metadata": {},
   "source": [
    "与 8.5类似，\n",
    "[**我们为一个完整的循环神经网络模型定义了一个`RNNModel`类**]。\n",
    "注意，`rnn_layer`只包含隐藏的循环层，我们还需要创建一个单独的输出层。"
   ]
  },
  {
   "cell_type": "code",
   "execution_count": null,
   "id": "824440cd",
   "metadata": {},
   "outputs": [],
   "source": [
    "#@tab pytorch\n",
    "#@save\n",
    "class RNNModel(nn.Module):\n",
    "    \"\"\"循环神经网络模型\"\"\"\n",
    "    def __init__(self, rnn_layer, vocab_size, **kwargs):\n",
    "        super(RNNModel, self).__init__(**kwargs)\n",
    "        self.rnn = rnn_layer\n",
    "        self.vocab_size = vocab_size\n",
    "        self.num_hiddens = self.rnn.hidden_size\n",
    "        # 如果RNN是双向的（之后将介绍），num_directions应该是2，否则应该是1\n",
    "        if not self.rnn.bidirectional:\n",
    "            self.num_directions = 1\n",
    "            self.linear = nn.Linear(self.num_hiddens, self.vocab_size)\n",
    "        else:\n",
    "            self.num_directions = 2\n",
    "            self.linear = nn.Linear(self.num_hiddens * 2, self.vocab_size)\n",
    "\n",
    "    def forward(self, inputs, state):\n",
    "        X = F.one_hot(inputs.T.long(), self.vocab_size)\n",
    "        X = X.to(torch.float32)\n",
    "        Y, state = self.rnn(X, state)\n",
    "        # 全连接层首先将Y的形状改为(时间步数*批量大小,隐藏单元数)\n",
    "        # 它的输出形状是(时间步数*批量大小,词表大小)。\n",
    "        output = self.linear(Y.reshape((-1, Y.shape[-1])))\n",
    "        return output, state\n",
    "\n",
    "    def begin_state(self, device, batch_size=1):\n",
    "        if not isinstance(self.rnn, nn.LSTM):\n",
    "            # nn.GRU以张量作为隐状态\n",
    "            return  torch.zeros((self.num_directions * self.rnn.num_layers,\n",
    "                                 batch_size, self.num_hiddens), \n",
    "                                device=device)\n",
    "        else:\n",
    "            # nn.LSTM以元组作为隐状态\n",
    "            return (torch.zeros((\n",
    "                self.num_directions * self.rnn.num_layers,\n",
    "                batch_size, self.num_hiddens), device=device),\n",
    "                    torch.zeros((\n",
    "                        self.num_directions * self.rnn.num_layers,\n",
    "                        batch_size, self.num_hiddens), device=device))"
   ]
  },
  {
   "cell_type": "markdown",
   "id": "29e0c6e4",
   "metadata": {},
   "source": [
    "## 训练与预测\n",
    "\n",
    "在训练模型之前，让我们[**基于一个具有随机权重的模型进行预测**]。"
   ]
  },
  {
   "cell_type": "code",
   "execution_count": null,
   "id": "b8f84de0",
   "metadata": {},
   "outputs": [],
   "source": [
    "#@tab pytorch\n",
    "device = d2l.try_gpu()\n",
    "net = RNNModel(rnn_layer, vocab_size=len(vocab))\n",
    "net = net.to(device)\n",
    "d2l.predict_ch8('time traveller', 10, net, vocab, device)"
   ]
  },
  {
   "cell_type": "markdown",
   "id": "c6340321",
   "metadata": {},
   "source": [
    "很明显，这种模型根本不能输出好的结果。\n",
    "接下来，我们使用 8.5中\n",
    "定义的超参数调用`train_ch8`，并且[**使用高级API训练模型**]。"
   ]
  },
  {
   "cell_type": "code",
   "execution_count": null,
   "id": "2b22f73b",
   "metadata": {},
   "outputs": [],
   "source": [
    "#@tab pytorch\n",
    "num_epochs, lr = 500, 1\n",
    "d2l.train_ch8(net, train_iter, vocab, lr, num_epochs, device)"
   ]
  },
  {
   "cell_type": "markdown",
   "id": "da3a84dc",
   "metadata": {},
   "source": [
    "与上一节相比，由于深度学习框架的高级API对代码进行了更多的优化，\n",
    "该模型在较短的时间内达到了较低的困惑度。\n",
    "\n",
    "## 小结\n",
    "\n",
    "* 深度学习框架的高级API提供了循环神经网络层的实现。\n",
    "* 高级API的循环神经网络层返回一个输出和一个更新后的隐状态，我们还需要计算整个模型的输出层。\n",
    "* 相比从零开始实现的循环神经网络，使用高级API实现可以加速训练。\n",
    "\n",
    "## 练习\n",
    "\n",
    "1. 尝试使用高级API，能使循环神经网络模型过拟合吗？\n",
    "1. 如果在循环神经网络模型中增加隐藏层的数量会发生什么？能使模型正常工作吗？\n",
    "1. 尝试使用循环神经网络实现 8.1的自回归模型。\n",
    "\n",
    "\n",
    "\n",
    "\n",
    "[Discussions](https://discuss.d2l.ai/t/2106)"
   ]
  }
 ],
 "metadata": {
  "language_info": {
   "name": "python"
  }
 },
 "nbformat": 4,
 "nbformat_minor": 5
}
