{
 "cells": [
  {
   "cell_type": "code",
   "execution_count": null,
   "metadata": {},
   "outputs": [],
   "source": [
    "import os\n",
    "from matplotlib import pyplot as plt\n",
    "import matplotlib.font_manager as fm\n",
    "\n",
    "# 设置中文显示\n",
    "plt.rcParams[\"font.sans-serif\"] = [\"SimHei\"]  # 使用黑体\n",
    "plt.rcParams[\"axes.unicode_minus\"] = False  # 解决负号显示问题\n",
    "\n",
    "# 检查是否安装了 SimHei 字体\n",
    "if not any(f.name == 'SimHei' for f in fm.fontManager.ttflist):\n",
    "    print(\"SimHei 字体未安装，请安装 SimHei 字体以支持中文显示。\")\n",
    "\n",
    "# 设置字体路径\n",
    "font_path = 'C:/Windows/Fonts/simhei.ttf'  # Windows 系统路径\n",
    "# font_path = '/usr/share/fonts/truetype/arphic/ukai.ttc'  # Linux 系统路径\n",
    "# font_path = '/Library/Fonts/SimHei.ttf'  # macOS 系统路径\n",
    "\n",
    "# 加载字体\n",
    "if os.path.exists(font_path):\n",
    "    font_prop = fm.FontProperties(fname=font_path)\n",
    "    plt.rcParams['font.family'] = font_prop.get_name()\n",
    "else:\n",
    "    print(f\"字体文件 {font_path} 不存在，请检查路径。\")\n",
    "\n",
    "# 示例图表\n",
    "plt.plot([1, 2, 3], [4, 5, 6])\n",
    "plt.title(\"示例图表\")\n",
    "plt.xlabel(\"X 轴\")\n",
    "plt.ylabel(\"Y 轴\")\n",
    "plt.show()"
   ]
  }
 ],
 "metadata": {
  "kernelspec": {
   "display_name": ".venv",
   "language": "python",
   "name": "python3"
  },
  "language_info": {
   "codemirror_mode": {
    "name": "ipython",
    "version": 3
   },
   "file_extension": ".py",
   "mimetype": "text/x-python",
   "name": "python",
   "nbconvert_exporter": "python",
   "pygments_lexer": "ipython3",
   "version": "3.12.6"
  }
 },
 "nbformat": 4,
 "nbformat_minor": 2
}
