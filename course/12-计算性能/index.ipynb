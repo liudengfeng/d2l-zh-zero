{
 "cells": [
  {
   "cell_type": "markdown",
   "id": "b0eac3b0",
   "metadata": {},
   "source": [
    "# 计算性能\n",
    "第12节\n",
    "\n",
    "在深度学习中，数据集和模型通常都很大，导致计算量也会很大。\n",
    "因此，计算的性能非常重要。\n",
    "本章将集中讨论影响计算性能的主要因素：命令式编程、符号编程、\n",
    "异步计算、自动并行和多GPU计算。\n",
    "通过学习本章，对于前几章中实现的那些模型，可以进一步提高它们的计算性能。\n",
    "例如，我们可以在不影响准确性的前提下，大大减少训练时间。"
   ]
  },
  {
   "cell_type": "code",
   "execution_count": null,
   "id": "1a892167",
   "metadata": {
    "attributes": {
     "classes": [
      "toc"
     ],
     "id": ""
    }
   },
   "outputs": [],
   "source": [
    ":maxdepth: 2\n",
    "\n",
    "hybridize\n",
    "async-computation\n",
    "auto-parallelism\n",
    "hardware\n",
    "multiple-gpus\n",
    "multiple-gpus-concise\n",
    "parameterserver"
   ]
  }
 ],
 "metadata": {},
 "nbformat": 4,
 "nbformat_minor": 5
}
