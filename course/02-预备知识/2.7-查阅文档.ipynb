{
 "cells": [
  {
   "cell_type": "markdown",
   "id": "6c45207f",
   "metadata": {},
   "source": [
    "# 查阅文档\n",
    "\n",
    "\n",
    "\n",
    "\n",
    "由于篇幅限制，本书不可能介绍每一个PyTorch函数和类。\n",
    "API文档、其他教程和示例提供了本书之外的大量文档。\n",
    "本节提供了一些查看PyTorch API的指导。\n",
    "\n",
    "\n",
    "\n",
    "## 查找模块中的所有函数和类\n",
    "\n",
    "为了知道模块中可以调用哪些函数和类，可以调用`dir`函数。\n",
    "例如，我们可以(**查询随机数生成模块中的所有属性：**)"
   ]
  },
  {
   "cell_type": "code",
   "execution_count": null,
   "id": "06254857",
   "metadata": {},
   "outputs": [],
   "source": [
    "#@tab pytorch\n",
    "import torch\n",
    "print(dir(torch.distributions))"
   ]
  },
  {
   "cell_type": "markdown",
   "id": "39152396",
   "metadata": {},
   "source": [
    "通常可以忽略以“`__`”（双下划线）开始和结束的函数，它们是Python中的特殊对象，\n",
    "或以单个“`_`”（单下划线）开始的函数，它们通常是内部函数。\n",
    "根据剩余的函数名或属性名，我们可能会猜测这个模块提供了各种生成随机数的方法，\n",
    "包括从均匀分布（`uniform`）、正态分布（`normal`）和多项分布（`multinomial`）中采样。\n",
    "\n",
    "## 查找特定函数和类的用法\n",
    "\n",
    "有关如何使用给定函数或类的更具体说明，可以调用`help`函数。\n",
    "例如，我们来[**查看张量`ones`函数的用法。**]"
   ]
  },
  {
   "cell_type": "code",
   "execution_count": null,
   "id": "6697db20",
   "metadata": {},
   "outputs": [],
   "source": [
    "#@tab pytorch\n",
    "help(torch.ones)"
   ]
  },
  {
   "cell_type": "markdown",
   "id": "79613c53",
   "metadata": {},
   "source": [
    "从文档中，我们可以看到`ones`函数创建一个具有指定形状的新张量，并将所有元素值设置为1。\n",
    "下面来[**运行一个快速测试**]来确认这一解释："
   ]
  },
  {
   "cell_type": "code",
   "execution_count": null,
   "id": "63837618",
   "metadata": {},
   "outputs": [],
   "source": [
    "#@tab pytorch\n",
    "torch.ones(4)"
   ]
  },
  {
   "cell_type": "markdown",
   "id": "39cb6f00",
   "metadata": {},
   "source": [
    "在Jupyter记事本中，我们可以使用`?`指令在另一个浏览器窗口中显示文档。\n",
    "例如，`list?`指令将创建与`help(list)`指令几乎相同的内容，并在新的浏览器窗口中显示它。\n",
    "此外，如果我们使用两个问号，如`list??`，将显示实现该函数的Python代码。\n",
    "\n",
    "## 小结\n",
    "\n",
    "* 官方文档提供了本书之外的大量描述和示例。\n",
    "* 可以通过调用`dir`和`help`函数或在Jupyter记事本中使用`?`和`??`查看API的用法文档。\n",
    "\n",
    "## 练习\n",
    "\n",
    "1. 在深度学习框架中查找任何函数或类的文档。请尝试在这个框架的官方网站上找到文档。\n",
    "\n",
    "\n",
    "\n",
    "\n",
    "[Discussions](https://discuss.d2l.ai/t/1765)"
   ]
  }
 ],
 "metadata": {},
 "nbformat": 4,
 "nbformat_minor": 5
}
